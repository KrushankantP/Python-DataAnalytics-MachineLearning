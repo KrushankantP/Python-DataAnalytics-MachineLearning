{
 "cells": [
  {
   "cell_type": "code",
   "execution_count": 2,
   "metadata": {},
   "outputs": [],
   "source": [
    "import numpy as np\n"
   ]
  },
  {
   "cell_type": "code",
   "execution_count": 3,
   "metadata": {},
   "outputs": [
    {
     "data": {
      "text/plain": [
       "array([[1200, 1400,  800, 1100],\n",
       "       [1300, 1500, 1600, 1000],\n",
       "       [1100, 1200, 1000, 1050]])"
      ]
     },
     "execution_count": 3,
     "metadata": {},
     "output_type": "execute_result"
    }
   ],
   "source": [
    "# question 1\n",
    "sales = np.array([[1200, 1400, 800, 1100],[1300,1500,1600,1000],[1100,1200,1000,1050]])\n",
    "sales"
   ]
  },
  {
   "cell_type": "code",
   "execution_count": 4,
   "metadata": {},
   "outputs": [
    {
     "data": {
      "text/plain": [
       "(array(['Dallas', 'Houston', 'Austin'], dtype='<U7'),\n",
       " array(['Q1', 'Q2', 'Q3', 'Q4'], dtype='<U2'))"
      ]
     },
     "execution_count": 4,
     "metadata": {},
     "output_type": "execute_result"
    }
   ],
   "source": [
    "#quetion 2\n",
    "cities = np.array(['Dallas', 'Houston', 'Austin'])\n",
    "Quaters= np.array(['Q1','Q2','Q3', 'Q4'])\n",
    "cities,Quaters"
   ]
  },
  {
   "cell_type": "code",
   "execution_count": 5,
   "metadata": {},
   "outputs": [
    {
     "name": "stdout",
     "output_type": "stream",
     "text": [
      "what is the cityHouston\n"
     ]
    },
    {
     "data": {
      "text/plain": [
       "array([False,  True, False])"
      ]
     },
     "execution_count": 5,
     "metadata": {},
     "output_type": "execute_result"
    }
   ],
   "source": [
    "#question 3\n",
    "city=input(\"what is the city\")\n",
    "cities == city"
   ]
  },
  {
   "cell_type": "code",
   "execution_count": 6,
   "metadata": {},
   "outputs": [
    {
     "name": "stdout",
     "output_type": "stream",
     "text": [
      "what is the cityHouston\n"
     ]
    },
    {
     "data": {
      "text/plain": [
       "array([[1300, 1500, 1600, 1000]])"
      ]
     },
     "execution_count": 6,
     "metadata": {},
     "output_type": "execute_result"
    }
   ],
   "source": [
    "#quesiton 4\n",
    "city = input (\"what is the city\")\n",
    "sales[cities == city]"
   ]
  },
  {
   "cell_type": "code",
   "execution_count": 7,
   "metadata": {},
   "outputs": [
    {
     "name": "stdout",
     "output_type": "stream",
     "text": [
      "what is the cityHouston\n"
     ]
    },
    {
     "data": {
      "text/plain": [
       "(5400, 1350.0)"
      ]
     },
     "execution_count": 7,
     "metadata": {},
     "output_type": "execute_result"
    }
   ],
   "source": [
    "#question 5\n",
    "city = input (\"what is the city\")\n",
    "sales[cities  ==city].sum(),sales[cities ==city].mean()\n"
   ]
  },
  {
   "cell_type": "code",
   "execution_count": 8,
   "metadata": {},
   "outputs": [
    {
     "name": "stdout",
     "output_type": "stream",
     "text": [
      "which quarter?Q2\n"
     ]
    }
   ],
   "source": [
    "#question 6\n",
    "\n",
    "quarter= input(\"which quarter?\")\n"
   ]
  },
  {
   "cell_type": "code",
   "execution_count": 10,
   "metadata": {},
   "outputs": [
    {
     "name": "stdout",
     "output_type": "stream",
     "text": [
      "which quarter?Q2\n"
     ]
    },
    {
     "data": {
      "text/plain": [
       "array([[1400],\n",
       "       [1500],\n",
       "       [1200]])"
      ]
     },
     "execution_count": 10,
     "metadata": {},
     "output_type": "execute_result"
    }
   ],
   "source": [
    "#question 7\n",
    "quater =input(\"which quarter?\")\n",
    "sales [:, quater== Quaters]"
   ]
  },
  {
   "cell_type": "code",
   "execution_count": 11,
   "metadata": {},
   "outputs": [
    {
     "name": "stdout",
     "output_type": "stream",
     "text": [
      "which Quarter?Q1\n"
     ]
    },
    {
     "data": {
      "text/plain": [
       "1300"
      ]
     },
     "execution_count": 11,
     "metadata": {},
     "output_type": "execute_result"
    }
   ],
   "source": [
    "#quetion 8\n",
    "Quater =input(\"which Quarter?\")\n",
    "np.amax(sales[:,Quater==Quaters])"
   ]
  },
  {
   "cell_type": "code",
   "execution_count": 13,
   "metadata": {},
   "outputs": [
    {
     "data": {
      "text/plain": [
       "array([1400, 1600, 1200])"
      ]
     },
     "execution_count": 13,
     "metadata": {},
     "output_type": "execute_result"
    }
   ],
   "source": [
    "#Question 9\n",
    "np.amax(sales,axis =1)"
   ]
  },
  {
   "cell_type": "code",
   "execution_count": 14,
   "metadata": {},
   "outputs": [
    {
     "data": {
      "text/plain": [
       "array([1300, 1500, 1600, 1100])"
      ]
     },
     "execution_count": 14,
     "metadata": {},
     "output_type": "execute_result"
    }
   ],
   "source": [
    "#Quetion 10\n",
    "np.amax(sales,axis=0)"
   ]
  },
  {
   "cell_type": "code",
   "execution_count": 15,
   "metadata": {},
   "outputs": [
    {
     "data": {
      "text/plain": [
       "array([[1200, 1300, 1100],\n",
       "       [1400, 1500, 1200],\n",
       "       [ 800, 1600, 1000],\n",
       "       [1100, 1000, 1050]])"
      ]
     },
     "execution_count": 15,
     "metadata": {},
     "output_type": "execute_result"
    }
   ],
   "source": [
    "#Question 11\n",
    "sales.T"
   ]
  },
  {
   "cell_type": "code",
   "execution_count": null,
   "metadata": {},
   "outputs": [],
   "source": []
  }
 ],
 "metadata": {
  "kernelspec": {
   "display_name": "Python 3",
   "language": "python",
   "name": "python3"
  },
  "language_info": {
   "codemirror_mode": {
    "name": "ipython",
    "version": 3
   },
   "file_extension": ".py",
   "mimetype": "text/x-python",
   "name": "python",
   "nbconvert_exporter": "python",
   "pygments_lexer": "ipython3",
   "version": "3.7.3"
  }
 },
 "nbformat": 4,
 "nbformat_minor": 2
}
